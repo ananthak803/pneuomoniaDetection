{
 "cells": [
  {
   "cell_type": "code",
   "execution_count": null,
   "id": "0e70e803",
   "metadata": {},
   "outputs": [],
   "source": [
    "import os\n",
    "import numpy as np\n",
    "import cv2\n",
    "from sklearn.model_selection import train_test_split\n",
    "import tensorflow as tf\n",
    "from tensorflow.keras.preprocessing.image import ImageDataGenerator\n",
    "\n",
    "def load_data(imageDir, imgSize=(150, 150)):\n",
    "    images = []\n",
    "    labels = []\n",
    "    \n",
    "    for label in [\"NORMAL\", \"PNEUMONIA\"]:\n",
    "        folderPath= os.path.join(imageDir,label)\n",
    "        for filename in os.listdir(folderPath):\n",
    "            if filename.endswith(\".jpeg\"):\n",
    "                imgPath = os.path.join(folderPath,filename)\n",
    "                img = cv2.imread(imgPath)\n",
    "                img = cv2.resize(img, imgSize)\n",
    "                images.append(img)\n",
    "                labels.append(0 if label == \"NORMAL\" else 1)\n",
    "    images=np.array(images)\n",
    "    labels=np.array(labels)\n",
    "    return images, labels\n",
    "\n",
    "imageDir=\"./chest_xray\"\n",
    "images, labels = load_data(imageDir)\n",
    "\n",
    "X_train, X_test, y_train, y_test = train_test_split(images, labels, test_size=0.2, random_state=42)"
   ]
  },
  {
   "cell_type": "code",
   "execution_count": null,
   "id": "11489239",
   "metadata": {},
   "outputs": [],
   "source": [
    "from tensorflow.keras.models import Sequential\n",
    "from tensorflow.keras.layers import Conv2D, MaxPooling2D, Flatten, Dense, Dropout\n",
    "from tensorflow.keras.optimizers import Adam\n",
    "\n",
    "model = Sequential(\n",
    "    [\n",
    "        Conv2D(32, (3, 3), activation='relu', input_shape=(150, 150, 3)),\n",
    "        MaxPooling2D(pool_size=(2, 2)),\n",
    "        Conv2D(64, (3, 3), activation='relu'),\n",
    "        MaxPooling2D(pool_size=(2, 2)),\n",
    "        Conv2D(128, (3, 3), activation='relu'),\n",
    "        MaxPooling2D(pool_size=(2, 2)),\n",
    "        Flatten(),\n",
    "        Dense(128, activation='relu'),\n",
    "        Dropout(0.5),\n",
    "        Dense(1, activation='sigmoid')\n",
    "    ]\n",
    ")\n",
    "\n",
    "model.compile(optimizer=Adam(learning_rate=0.001), loss='binary_crossentropy', metrics=['accuracy'])\n",
    "model.summary()\n",
    "\n"
   ]
  },
  {
   "cell_type": "code",
   "execution_count": null,
   "id": "f12c9cce",
   "metadata": {},
   "outputs": [],
   "source": [
    "train_datagen = ImageDataGenerator(\n",
    "    rescale=1./255,\n",
    "    rotation_range=20,\n",
    "    width_shift_range=0.2,\n",
    "    height_shift_range=0.2,\n",
    "    shear_range=0.2,\n",
    "    zoom_range=0.2,\n",
    "    horizontal_flip=True,\n",
    "    fill_mode='nearest'\n",
    ")\n",
    "\n",
    "test_datagen = ImageDataGenerator(rescale=1./255)\n",
    "\n",
    "train_generator = train_datagen.flow(X_train, y_train, batch_size=32)\n",
    "validation_generator = test_datagen.flow(X_test, y_test, batch_size=32)\n",
    "\n",
    "# Train the model\n",
    "history = model.fit(\n",
    "    train_generator,\n",
    "    steps_per_epoch=len(X_train) // 32,\n",
    "    epochs=10,\n",
    "    validation_data=validation_generator,\n",
    "    validation_steps=len(X_test) // 32\n",
    ")\n"
   ]
  },
  {
   "cell_type": "code",
   "execution_count": null,
   "id": "3e8831a1",
   "metadata": {},
   "outputs": [],
   "source": [
    "loss, accuracy = model.evaluate(validation_generator, steps=len(X_test) // 32)\n",
    "print(f\"Test accuracy: {accuracy*100:.2f}%\")\n"
   ]
  },
  {
   "cell_type": "code",
   "execution_count": null,
   "id": "63afc203",
   "metadata": {},
   "outputs": [],
   "source": [
    "# Load a new image for prediction\n",
    "img_path = 'path_to_new_image.jpg'\n",
    "img = cv2.imread(img_path)\n",
    "img = cv2.resize(img, (150, 150)) \n",
    "img = np.expand_dims(img, axis=0) \n",
    "\n",
    "# Predict\n",
    "prediction = model.predict(img)\n",
    "if prediction[0] > 0.5:\n",
    "    print(\"Prediction: Pneumonia\")\n",
    "else:\n",
    "    print(\"Prediction: Normal\")\n"
   ]
  },
  {
   "cell_type": "code",
   "execution_count": null,
   "id": "c7a432a0",
   "metadata": {},
   "outputs": [],
   "source": [
    "model.save(\"pneumonia_detection_model.h5\")\n"
   ]
  }
 ],
 "metadata": {
  "kernelspec": {
   "display_name": "Python 3",
   "language": "python",
   "name": "python3"
  },
  "language_info": {
   "name": "python",
   "version": "3.12.6"
  }
 },
 "nbformat": 4,
 "nbformat_minor": 5
}
